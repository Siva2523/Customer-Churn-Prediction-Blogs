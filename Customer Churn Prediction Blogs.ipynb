{
 "cells": [
  {
   "cell_type": "markdown",
   "id": "ed9beba5",
   "metadata": {},
   "source": [
    "## Building an Employee Churn Model in Python"
   ]
  },
  {
   "cell_type": "markdown",
   "id": "a1d27d52",
   "metadata": {},
   "source": [
    "1.) Problem Definition.\n",
    "\n",
    "2.) DataAnalysis.\n",
    "\n",
    "3.) EDA Concluding Remark.\n",
    "\n",
    "4.) Pre-Processing Pipeline.\n",
    "\n",
    "5.) Building Machine Learning Models.\n",
    "\n",
    "6.) Concluding Remarks."
   ]
  },
  {
   "cell_type": "markdown",
   "id": "1e49e98d",
   "metadata": {},
   "source": [
    "## Problem Definition:\n",
    "\n",
    "Churn Prediction is probably one of the most important application in a Commericial Sector.\n",
    "\n",
    "Churn is defined in business terms as 'When a client cancels a subscription to a service they have been using'.A Common example is people cancelling Amazon/Netflix Subscriptions. So churn prediction  is essentially predecting which clients are most likely to cancel subscription i.e.'leave a company'based on their usage of the service.\n",
    "\n",
    "From a company point of view,it is necessary to gain this information because acquiring new customers is often ardous and costlier than retaining old ones.\n",
    "\n",
    "Churn Prediction helps them to focus more on the customers that are at a high risk of Leaving.\n",
    "\n",
    "The Output in these case of Churn prediction is a simple yes or no. That makes it a classification problem where you have to predict 1 if the customer like to Churn or 0 otherwise."
   ]
  },
  {
   "cell_type": "markdown",
   "id": "02313fdf",
   "metadata": {},
   "source": [
    "## 2.) Data Analysis:\n",
    "\n",
    "I have used the Customer Churn Dataset from the github."
   ]
  },
  {
   "cell_type": "markdown",
   "id": "36847afd",
   "metadata": {},
   "source": [
    "## Importing Impotant Libraries"
   ]
  },
  {
   "cell_type": "code",
   "execution_count": null,
   "id": "6bca9f10",
   "metadata": {
    "scrolled": true
   },
   "outputs": [],
   "source": [
    "import pandas as pd\n",
    "import numpy as np\n",
    "import matplotlib.pyplot as plt\n",
    "import seaborn as sns\n",
    "%matplotlib inline\n",
    "from sklearn.metrics import accuracy_score, confusion_matrix\n",
    "from sklearn.model_selection import RandomizedSearchCV"
   ]
  },
  {
   "cell_type": "markdown",
   "id": "80697006",
   "metadata": {},
   "source": [
    "## Loading the DATASET:"
   ]
  },
  {
   "cell_type": "code",
   "execution_count": null,
   "id": "0eab9e23",
   "metadata": {
    "scrolled": true
   },
   "outputs": [],
   "source": [
    "df=pd.read_csv(r\"https://raw.githubusercontent.com/dsrscientist/DSData/master/Telecom_customer_churn.csv\")\n",
    "df"
   ]
  },
  {
   "cell_type": "code",
   "execution_count": null,
   "id": "1d9dfe38",
   "metadata": {
    "scrolled": true
   },
   "outputs": [],
   "source": [
    "pd.set_option(\"display.max_columns\",None)\n",
    "df"
   ]
  },
  {
   "cell_type": "markdown",
   "id": "e4193c8e",
   "metadata": {},
   "source": [
    "Here we have imported dataset using pd.read_csv and the set the option to display all the columns present into the dataset.\n",
    "\n",
    "The dataset contains the details of customers in which both numerical and categorical data are Presnt.Here \"Churn\" is the target varaible which contains two categories so it will termed as \"Classification problem\" where we need to predict the several customer churn using the classification models."
   ]
  },
  {
   "cell_type": "code",
   "execution_count": null,
   "id": "db003026",
   "metadata": {
    "scrolled": true
   },
   "outputs": [],
   "source": [
    "## Importing Necessary Libraries\n",
    "import os\n",
    "import scipy as stats\n",
    "import datetime as dt\n",
    "\n",
    "import warnings\n",
    "warnings.filterwarnings('ignore')"
   ]
  },
  {
   "cell_type": "markdown",
   "id": "6c373f52",
   "metadata": {},
   "source": [
    "### 3.) Exploratory Data Analysis(EDA):"
   ]
  },
  {
   "cell_type": "code",
   "execution_count": null,
   "id": "7edae6ff",
   "metadata": {
    "scrolled": true
   },
   "outputs": [],
   "source": [
    "df.shape"
   ]
  },
  {
   "cell_type": "code",
   "execution_count": null,
   "id": "529dd53d",
   "metadata": {
    "scrolled": true
   },
   "outputs": [],
   "source": [
    "df.columns"
   ]
  },
  {
   "cell_type": "code",
   "execution_count": null,
   "id": "31953a0c",
   "metadata": {
    "scrolled": true
   },
   "outputs": [],
   "source": [
    "df.info()"
   ]
  },
  {
   "cell_type": "markdown",
   "id": "6c900dbd",
   "metadata": {},
   "source": [
    "We can see there are a total 20 columns in our dataset."
   ]
  },
  {
   "cell_type": "code",
   "execution_count": null,
   "id": "e717b1ec",
   "metadata": {
    "scrolled": true
   },
   "outputs": [],
   "source": [
    "# Checking the null values in dataframe\n",
    "df.isnull().sum()"
   ]
  },
  {
   "cell_type": "code",
   "execution_count": null,
   "id": "9dd1adad",
   "metadata": {
    "scrolled": true
   },
   "outputs": [],
   "source": [
    "df.dtypes"
   ]
  },
  {
   "cell_type": "markdown",
   "id": "df57e999",
   "metadata": {},
   "source": [
    "There are three different datatypes present in the dataset.There is one column is float datatype and two integer datatypes and remaining are object datatypes. "
   ]
  },
  {
   "cell_type": "code",
   "execution_count": null,
   "id": "5e2034e3",
   "metadata": {
    "scrolled": false
   },
   "outputs": [],
   "source": [
    "# Checking the value counts of each column\n",
    "for i in df.columns:\n",
    "    print(df[i].value_counts())\n",
    "    print('*'*50)"
   ]
  },
  {
   "cell_type": "code",
   "execution_count": null,
   "id": "ee87d0c7",
   "metadata": {
    "scrolled": true
   },
   "outputs": [],
   "source": [
    "df[\"TotalCharges\"].unique()"
   ]
  },
  {
   "cell_type": "markdown",
   "id": "53963c75",
   "metadata": {},
   "source": [
    "We can observe that the \"Totalcharges\"has the continuous data but when we checked the data type it is showing object datatype due to some reason also if we notice the value counts,11 rows of this column has blank data.Let's handle this column."
   ]
  },
  {
   "cell_type": "code",
   "execution_count": null,
   "id": "880579db",
   "metadata": {
    "scrolled": true
   },
   "outputs": [],
   "source": [
    "# Checking the space in TotalCharges column\n",
    "df.loc[df[\"TotalCharges\"]==\" \"]"
   ]
  },
  {
   "cell_type": "markdown",
   "id": "71eaf41d",
   "metadata": {},
   "source": [
    "By locating the TotalCharges we can find this column has space as values but it showing 0 missing values in this columns, Let's fill this column by some values and then we will convert this into a float type. "
   ]
  },
  {
   "cell_type": "code",
   "execution_count": null,
   "id": "07082ea7",
   "metadata": {
    "scrolled": true
   },
   "outputs": [],
   "source": [
    "df[\"TotalCharges\"] = df[\"TotalCharges\"].replace(\" \",np.nan)\n",
    "df[\"TotalCharges\"].value_counts()"
   ]
  },
  {
   "cell_type": "code",
   "execution_count": null,
   "id": "9216ad8c",
   "metadata": {
    "scrolled": true
   },
   "outputs": [],
   "source": [
    "# Converting the object data type into float data type\n",
    "df['TotalCharges'] = df['TotalCharges'].astype(float)\n",
    "df['TotalCharges'].dtype"
   ]
  },
  {
   "cell_type": "markdown",
   "id": "9b6ce330",
   "metadata": {},
   "source": [
    "Successfully we had converted into float data type, because of some reason that it shows the object data type. Now all the column of TotalCharges had all float numbers in the dataset is float data type."
   ]
  },
  {
   "cell_type": "code",
   "execution_count": null,
   "id": "e1a57531",
   "metadata": {
    "scrolled": true
   },
   "outputs": [],
   "source": [
    "# Lets check null values again\n",
    "df.isnull().sum()"
   ]
  },
  {
   "cell_type": "markdown",
   "id": "4ff93153",
   "metadata": {},
   "source": [
    "Since we have filled the blank spaces in TotalCharges column with nan values,It's showing 11 null values in that column. Replacing the NAN values using mean method as the column TotalCharges is continuous in nature."
   ]
  },
  {
   "cell_type": "code",
   "execution_count": null,
   "id": "99d0d969",
   "metadata": {
    "scrolled": true
   },
   "outputs": [],
   "source": [
    "# Checking the mean of TotalCharges column\n",
    "print(\"The Mean value of TotalCharges is:\",df[\"TotalCharges\"].mean())"
   ]
  },
  {
   "cell_type": "code",
   "execution_count": null,
   "id": "406a43e4",
   "metadata": {
    "scrolled": true
   },
   "outputs": [],
   "source": [
    "#Filling the null values in TotalCharges with its mean\n",
    "df[\"TotalCharges\"]=df[\"TotalCharges\"].fillna(df[\"TotalCharges\"].mean())"
   ]
  },
  {
   "cell_type": "code",
   "execution_count": null,
   "id": "a168c24a",
   "metadata": {
    "scrolled": true
   },
   "outputs": [],
   "source": [
    "#Lets check null values again\n",
    "sns.heatmap(df.isnull(),cmap=\"cool_r\")\n",
    "plt.show()"
   ]
  },
  {
   "cell_type": "code",
   "execution_count": null,
   "id": "fe97e0e4",
   "metadata": {
    "scrolled": true
   },
   "outputs": [],
   "source": [
    "df.info()"
   ]
  },
  {
   "cell_type": "markdown",
   "id": "cdb65c93",
   "metadata": {},
   "source": [
    "By Info method we get information about the dataset which includes indexing type,column type non-null values and memory usage.Here we can see these 3 types of data present,2 integer type,2 float type and 17 object type .We will use encoding methods to convert this object type data into numerical data in the later part. "
   ]
  },
  {
   "cell_type": "code",
   "execution_count": null,
   "id": "cae2ed66",
   "metadata": {
    "scrolled": true
   },
   "outputs": [],
   "source": [
    "# Separating numerical and ctegorical columns\n",
    "\n",
    "#Checking for categorical columns\n",
    "categorical_col=[]\n",
    "for i in df.dtypes.index:\n",
    "    if df.dtypes[i]=='object':\n",
    "        categorical_col.append(i)\n",
    "print(\"Categorical columns are:\\n\",categorical_col)\n",
    "print(\"\\n\")\n",
    "\n",
    "#Now checking numerical columns\n",
    "numerical_col=[]\n",
    "for i in df.dtypes.index:\n",
    "    if df.dtypes[i]!='object':\n",
    "        numerical_col.append(i)\n",
    "print(\"Numerical_columns are:\\n\",numerical_col)        "
   ]
  },
  {
   "cell_type": "code",
   "execution_count": null,
   "id": "5d5d65da",
   "metadata": {
    "scrolled": true
   },
   "outputs": [],
   "source": [
    "#Checking number of unique values in each column\n",
    "df.nunique().to_frame(\"No of Unique Values\")"
   ]
  },
  {
   "cell_type": "markdown",
   "id": "d6a0f6ed",
   "metadata": {},
   "source": [
    "These are the unique values presnt in the Dataset.Here Customer ID column has the data of unique ID given to the customers wich is not required for the predictions.\n",
    "\n",
    "Lets drop this column."
   ]
  },
  {
   "cell_type": "code",
   "execution_count": null,
   "id": "7969cb90",
   "metadata": {
    "scrolled": true
   },
   "outputs": [],
   "source": [
    "#Dropping Customer ID column\n",
    "df.drop('customerID',axis=1,inplace=True)"
   ]
  },
  {
   "cell_type": "code",
   "execution_count": null,
   "id": "11210904",
   "metadata": {
    "scrolled": true
   },
   "outputs": [],
   "source": [
    "# Checking the list of counts target\n",
    "df['Churn'].unique()"
   ]
  },
  {
   "cell_type": "markdown",
   "id": "b18d86bd",
   "metadata": {},
   "source": [
    "There re two categories present in the target column namely \"No\" and \"Yes\"."
   ]
  },
  {
   "cell_type": "code",
   "execution_count": null,
   "id": "408f51c4",
   "metadata": {
    "scrolled": true
   },
   "outputs": [],
   "source": [
    "# Checking the unique values in target column\n",
    "df['Churn'].value_counts()"
   ]
  },
  {
   "cell_type": "markdown",
   "id": "beddafb7",
   "metadata": {},
   "source": [
    "There are two categories in the column Churn namely No and Yes. We can assume that \"No\" stands for the customers who have not Churned and \"Yes\" stands for the customers who have got churned from the company."
   ]
  },
  {
   "cell_type": "markdown",
   "id": "286ae319",
   "metadata": {},
   "source": [
    "### Description of Dataset"
   ]
  },
  {
   "cell_type": "code",
   "execution_count": null,
   "id": "1fec2267",
   "metadata": {
    "scrolled": true
   },
   "outputs": [],
   "source": [
    "df.describe()"
   ]
  },
  {
   "cell_type": "markdown",
   "id": "8a047fcd",
   "metadata": {},
   "source": [
    "This give the statistical information of the numerical columns.The summary of this dataset looks perfect since there is no negitive/invalid values present.\n",
    "\n",
    "From the above description we can observe the following things.\n",
    "\n",
    "The counts of all the 3 columns are same which means there are no missing values in the dataset. The mean value is greater then the median(50%)in tenure and TotalCharges columns which means the data is skewed to right in these columns. The data in the column Monthly Charges have mean value less than median that means the data is skewed to left.\n",
    "\n",
    "By summarising the data we can observe there is huge difference between 75% and max hence there are outliers present in the data which we will remove them later on using appropriate methods.We can also notice the Standard deviation,min,25% precentile value from the describe method."
   ]
  },
  {
   "cell_type": "markdown",
   "id": "00598901",
   "metadata": {},
   "source": [
    "## Data Visulization:"
   ]
  },
  {
   "cell_type": "markdown",
   "id": "b5372050",
   "metadata": {},
   "source": [
    "We need explore the data to find some patterns"
   ]
  },
  {
   "cell_type": "markdown",
   "id": "47c88aa1",
   "metadata": {},
   "source": [
    "### Univariate Analysis:"
   ]
  },
  {
   "cell_type": "code",
   "execution_count": null,
   "id": "e9a7948a",
   "metadata": {
    "scrolled": true
   },
   "outputs": [],
   "source": [
    "# Visualize the number of Churned Customers\n",
    "print(df[\"Churn\"].value_counts())\n",
    "sns.countplot(df[\"Churn\"],palette='cool')\n",
    "plt.show()"
   ]
  },
  {
   "cell_type": "markdown",
   "id": "857a68b4",
   "metadata": {},
   "source": [
    "From the count plot we can observe that the count of \"No Churn\" are high compared to the count of \"Yes Churn\".That is there are more number of customers who have churned. This lead to class to class imbalance issue in the data, we will rectify it by using oversampling method in later part."
   ]
  },
  {
   "cell_type": "code",
   "execution_count": null,
   "id": "7cdfd564",
   "metadata": {
    "scrolled": true
   },
   "outputs": [],
   "source": [
    "# Visulize the count of Gender\n",
    "print(df['gender'].value_counts())\n",
    "labels='Male','Female'\n",
    "fig, ax = plt.subplots(figsize=(6,6))\n",
    "colors=[\"g\",\"crimson\"]\n",
    "ax.pie(df['gender'].value_counts(), labels=labels, autopct='%1.2f%%', shadow=True,colors=colors)\n",
    "plt.show()"
   ]
  },
  {
   "cell_type": "markdown",
   "id": "e9c2c47e",
   "metadata": {},
   "source": [
    "From the plot we can observe the total number of male and female customers are almost same,but still the count of male is 3555 which is high compared to count of female which has 3448 counts."
   ]
  },
  {
   "cell_type": "code",
   "execution_count": null,
   "id": "4281bcb2",
   "metadata": {
    "scrolled": true
   },
   "outputs": [],
   "source": [
    "# Visualize the count of Gender\n",
    "print(df['SeniorCitizen'].value_counts())\n",
    "labels='0','1'\n",
    "fig, ax = plt.subplots(figsize=(6,6))\n",
    "colors=[\"y\",\"teal\"]\n",
    "ax.pie(df['SeniorCitizen'].value_counts(), labels=labels, autopct='%1.2f%%', shadow=True,explode=(0.88,0),colors=colors)\n",
    "plt.show()"
   ]
  },
  {
   "cell_type": "markdown",
   "id": "5a87c327",
   "metadata": {},
   "source": [
    "Here 0 represents the non SeniorCitizens and 1 represents the SeniorCitizens. The count of 0 is high in data compared to 1 which the number non-seniorcitizens are quite high comparted to seniorcitizens data in the given dataset. Around 83% of the customers non-Seniorcitizens and only 16% are SeniorCitizens."
   ]
  },
  {
   "cell_type": "code",
   "execution_count": null,
   "id": "d6c2ae68",
   "metadata": {
    "scrolled": true
   },
   "outputs": [],
   "source": [
    "# Visualizing how many customers have their partners\n",
    "print(df[\"Partner\"].value_counts())\n",
    "sns.countplot(df[\"Partner\"],palette=\"Set1\")\n",
    "plt.show()\n"
   ]
  },
  {
   "cell_type": "markdown",
   "id": "7a684981",
   "metadata": {},
   "source": [
    "The Count for partner details are almost similar and the customers who do not have partners are bit higher than who have partners"
   ]
  },
  {
   "cell_type": "code",
   "execution_count": null,
   "id": "70785f2d",
   "metadata": {
    "scrolled": true
   },
   "outputs": [],
   "source": [
    "# Visualize the count of Gender\n",
    "print(df['Dependents'].value_counts())\n",
    "labels='No','Yes'\n",
    "fig, ax = plt.subplots(figsize=(6,6))\n",
    "colors=[\"tab:green\",\"darkorange\"]\n",
    "ax.pie(df['Dependents'].value_counts(), labels=labels, autopct='%1.2f%%', shadow=False,explode=(0.05,0),colors=colors)\n",
    "plt.show()"
   ]
  },
  {
   "cell_type": "markdown",
   "id": "3a4e93c7",
   "metadata": {},
   "source": [
    "The customers who have dependents are very less in counts that means they do not have anyone dependent on them. Here arround 70% of customers have dependents only 29.96% have no dependents."
   ]
  },
  {
   "cell_type": "code",
   "execution_count": null,
   "id": "b131d125",
   "metadata": {
    "scrolled": true
   },
   "outputs": [],
   "source": [
    "# Visualize the how many customers have phone service\n",
    "print(df[\"PhoneService\"].value_counts())\n",
    "sns.countplot(df[\"PhoneService\"],palette=\"magma\")\n",
    "plt.show()"
   ]
  },
  {
   "cell_type": "markdown",
   "id": "27864826",
   "metadata": {},
   "source": [
    "The customers who have phone services are Large in numbers and who do not own phone services are very less in number"
   ]
  },
  {
   "cell_type": "code",
   "execution_count": null,
   "id": "c5c4aba8",
   "metadata": {
    "scrolled": true
   },
   "outputs": [],
   "source": [
    "# Visualize count of multiple lines\n",
    "print(df['MultipleLines'].value_counts())\n",
    "sns.countplot(df[\"MultipleLines\"],palette=\"prism\")\n",
    "plt.show()"
   ]
  },
  {
   "cell_type": "markdown",
   "id": "b670161e",
   "metadata": {},
   "source": [
    "The customers who have phone service from single line have high counts compared to the customers having phone services from multiplelines, also the customers who do not have phone services have covered very less data compared to others."
   ]
  },
  {
   "cell_type": "code",
   "execution_count": null,
   "id": "34e69c4a",
   "metadata": {
    "scrolled": true
   },
   "outputs": [],
   "source": [
    "# Visualizing the how many customers have internetservices\n",
    "print(df[\"InternetService\"].value_counts())\n",
    "sns.countplot(df[\"InternetService\"],palette='husl')\n",
    "plt.show()"
   ]
  },
  {
   "cell_type": "markdown",
   "id": "eeca1562",
   "metadata": {},
   "source": [
    "Most of the customers have chosen to get Fiber optic InternetService followed by DSL,but there are many customers who do not get an internet service."
   ]
  },
  {
   "cell_type": "code",
   "execution_count": null,
   "id": "b4dc42e5",
   "metadata": {
    "scrolled": true
   },
   "outputs": [],
   "source": [
    "# Visualizing how many customer having online security\n",
    "print(df[\"OnlineSecurity\"].value_counts())\n",
    "sns.countplot(df[\"OnlineSecurity\"],palette=\"plasma\")\n",
    "plt.show()"
   ]
  },
  {
   "cell_type": "markdown",
   "id": "812493d4",
   "metadata": {},
   "source": [
    "It is obvious that the customer who have internet service they needs online security and who do not own any intentent services,they do not need online security.But from the count plot we can obeserve the majority of customers who have internet services but they do not use any online security services."
   ]
  },
  {
   "cell_type": "code",
   "execution_count": null,
   "id": "016c92b3",
   "metadata": {
    "scrolled": true
   },
   "outputs": [],
   "source": [
    "# Visualizing how many customers have online backup\n",
    "print(df['OnlineBackup'].value_counts())\n",
    "labels='No','Yes',\"No Internet services\"\n",
    "fig, ax = plt.subplots(figsize=(6,6))\n",
    "colors=[\"teal\",\"darkorange\",\"hotpink\"]\n",
    "ax.pie(df['OnlineBackup'].value_counts(),labels=labels, autopct='%1.2f%%', shadow=True,colors=colors)\n",
    "plt.show()"
   ]
  },
  {
   "cell_type": "markdown",
   "id": "6225a547",
   "metadata": {},
   "source": [
    "It is obvious that the customers who do not own internet services and online security, they do not need onlinebackup usage.From the plot we can see the majority of customers who own internetservices they do not have OnlineBackups and the customers who own internet services have very less onlinebackup.Also the customers who do not have internet services  have very less online backup counts compared to others"
   ]
  },
  {
   "cell_type": "code",
   "execution_count": null,
   "id": "0a572a72",
   "metadata": {
    "scrolled": true
   },
   "outputs": [],
   "source": [
    "# visualizing how many customers have deviceprotection\n",
    "print(df[\"DeviceProtection\"].value_counts())\n",
    "labels='No','Yes',\"No internet services\"\n",
    "fig, ax = plt.subplots(figsize=(6,6))\n",
    "colors=[\"r\",\"g\",\"maroon\"]\n",
    "ax.pie(df['DeviceProtection'].value_counts(),labels=labels,autopct='%1.2f%%',shadow=False,colors=colors)\n",
    "plt.show()"
   ]
  },
  {
   "cell_type": "markdown",
   "id": "9900b8d5",
   "metadata": {},
   "source": [
    "From the count plot we can notice that the customers without any device protection have high counts as compared to the customers who have some kind of device protection. And the customers who do not have internet access they do not need any device protection."
   ]
  },
  {
   "cell_type": "code",
   "execution_count": null,
   "id": "6831093e",
   "metadata": {
    "scrolled": true
   },
   "outputs": [],
   "source": [
    "# visualizing how many customers have Techsupport \n",
    "print(df['TechSupport'].value_counts())\n",
    "labels='No','Yes',\"No internet srvices\"\n",
    "fig, ax = plt.subplots(figsize=(6,6))\n",
    "colors=['g','tab:brown','violet']\n",
    "ax.pie(df['TechSupport'].value_counts(), labels=labels, autopct='%1.2f%%', shadow=False,colors=colors)\n",
    "plt.show()"
   ]
  },
  {
   "cell_type": "markdown",
   "id": "780a8704",
   "metadata": {},
   "source": [
    "The customers who do not need any technical support are high in counts compared to the customers who need technical support. Around 49% of the people do not need any technical support and only 29% needs."
   ]
  },
  {
   "cell_type": "code",
   "execution_count": null,
   "id": "9691a380",
   "metadata": {
    "scrolled": true
   },
   "outputs": [],
   "source": [
    "# visualizing how many customers have streamingtv\n",
    "print(df[\"StreamingTV\"].value_counts())\n",
    "sns.countplot(df[\"StreamingTV\"],palette=\"mako\")\n",
    "plt.show"
   ]
  },
  {
   "cell_type": "markdown",
   "id": "7aad546e",
   "metadata": {},
   "source": [
    "The customers who do not use streamingTV have little bit high in numbers than the customers who do use StreamingTV. And the customers who do not own internet they do not have this service much."
   ]
  },
  {
   "cell_type": "code",
   "execution_count": null,
   "id": "033954ab",
   "metadata": {
    "scrolled": true
   },
   "outputs": [],
   "source": [
    "# visualizing how many customers have streamingmovies\n",
    "print(df[\"StreamingMovies\"].value_counts())\n",
    "sns.countplot(df[\"StreamingMovies\"],palette=\"bright\")\n",
    "plt.show()"
   ]
  },
  {
   "cell_type": "markdown",
   "id": "3d857da6",
   "metadata": {},
   "source": [
    "The customers who do not have Streaming movies are high in count followed by the customers who have Streaming movies services. And the customers who do not have internet services, they have less streaming movies services compared to others."
   ]
  },
  {
   "cell_type": "code",
   "execution_count": null,
   "id": "42e254ad",
   "metadata": {
    "scrolled": true
   },
   "outputs": [],
   "source": [
    "# visualizing how many customers have contract\n",
    "print(df[\"Contract\"].value_counts())\n",
    "sns.countplot(df[\"Contract\"],palette=\"PuRd\")\n",
    "plt.show()"
   ]
  },
  {
   "cell_type": "markdown",
   "id": "9644b586",
   "metadata": {},
   "source": [
    "Most of the customers prefer Month to Month contract compared to 1 year and 2 years contract but where as next prefer goes to two year contract rather than one year contract."
   ]
  },
  {
   "cell_type": "code",
   "execution_count": null,
   "id": "dc14b4c4",
   "metadata": {
    "scrolled": true
   },
   "outputs": [],
   "source": [
    "# visualizing how many customers have paymentmethod\n",
    "print(df['PaperlessBilling'].value_counts())\n",
    "labels='Yes','No'\n",
    "fig, ax = plt.subplots(figsize=(6,6))\n",
    "colors=[\"lime\",\"maroon\"]\n",
    "ax.pie(df['PaperlessBilling'].value_counts(), labels=labels, autopct='%1.2f%%', shadow=False, colors=colors)\n",
    "plt.show()"
   ]
  },
  {
   "cell_type": "markdown",
   "id": "29e00f24",
   "metadata": {},
   "source": [
    "Most of the customers prefer paperless billing and average number of customers who do not prefer paper less billing, they may like to receive paper billing."
   ]
  },
  {
   "cell_type": "code",
   "execution_count": null,
   "id": "d056210c",
   "metadata": {
    "scrolled": true
   },
   "outputs": [],
   "source": [
    "# visualizing how many customers have contract\n",
    "print(df[\"PaymentMethod\"].value_counts())\n",
    "sns.countplot(df[\"PaymentMethod\"],palette=\"mako\")\n",
    "plt.xticks(rotation=70)\n",
    "plt.show()\n"
   ]
  },
  {
   "cell_type": "markdown",
   "id": "54b4d2bf",
   "metadata": {},
   "source": [
    "Most of the customers prefer Electronic check payment method and the customers who prefer Mailed Check, bank transfer and Credit card have average in count."
   ]
  },
  {
   "cell_type": "markdown",
   "id": "5c7f10c8",
   "metadata": {},
   "source": [
    "## Plotting Numerical Columns"
   ]
  },
  {
   "cell_type": "code",
   "execution_count": null,
   "id": "e42b9049",
   "metadata": {
    "scrolled": true
   },
   "outputs": [],
   "source": [
    "# Lets check how the data has been distributed in remaining columns\n",
    "plt.figure(figsize=(10,6),facecolor='white')\n",
    "plotnumber=1\n",
    "for column in numerical_col:\n",
    "    if plotnumber<=4:\n",
    "        ax=plt.subplot(2,2,plotnumber)\n",
    "        sns.distplot(df[column],color='m')\n",
    "        plt.xlabel(column,fontsize=10)\n",
    "        plt.yticks(rotation=0,fontsize=15)\n",
    "    plotnumber+=1\n",
    "plt.tight_layout()  "
   ]
  },
  {
   "cell_type": "markdown",
   "id": "1d6f5fd5",
   "metadata": {},
   "source": [
    "From the above distribution plots we can notice that data almost looks normal in all columns expect seniorCitizen.And the data in the column TotalCharges is skewed to right. Other two columns tenure and MonthlyCharges do not have skewness."
   ]
  },
  {
   "cell_type": "markdown",
   "id": "c8f8e4ca",
   "metadata": {},
   "source": [
    "## Bivariate Analysis:"
   ]
  },
  {
   "cell_type": "code",
   "execution_count": null,
   "id": "24ef76d7",
   "metadata": {
    "scrolled": true
   },
   "outputs": [],
   "source": [
    "# Comparing tenure and seniorcitizen\n",
    "plt.title(\"Comparision between SeniorCitizen and Tenure\")\n",
    "sns.stripplot(x= \"SeniorCitizen\",y=\"tenure\",data=df)\n",
    "plt.show()"
   ]
  },
  {
   "cell_type": "markdown",
   "id": "f6f1e277",
   "metadata": {},
   "source": [
    "There is no significant difference between the features(tenure&seniorcitizen), here both the feature are in equal length."
   ]
  },
  {
   "cell_type": "code",
   "execution_count": null,
   "id": "8aaec662",
   "metadata": {
    "scrolled": true
   },
   "outputs": [],
   "source": [
    "# comparing gender and monthlycharges\n",
    "plt.title(\"Comparsion betwen gender and MonthlyCharges\")\n",
    "sns.violinplot(x= \"gender\",y=\"MonthlyCharges\", data = df,hue=\"Churn\",split=True)\n",
    "plt.show()"
   ]
  },
  {
   "cell_type": "markdown",
   "id": "cb05f302",
   "metadata": {},
   "source": [
    "Both male and female customers with monthly charges above 60 have high chances of getting churned."
   ]
  },
  {
   "cell_type": "code",
   "execution_count": null,
   "id": "4e3f6812",
   "metadata": {
    "scrolled": true
   },
   "outputs": [],
   "source": [
    "# comparing tenure and TotalCharges\n",
    "plt.title(\"Comparsion between tenure and TotalCharges\")\n",
    "sns.scatterplot(x= \"tenure\",y= \"TotalCharges\", data = df,hue=\"Churn\",palette=\"mako\")\n",
    "plt.show()"
   ]
  },
  {
   "cell_type": "markdown",
   "id": "ccd5da69",
   "metadata": {},
   "source": [
    "Here we can notice the strong linear relation between the features. As the tenure increases, TotalCharges also increases rapidly. If the customers have low tenure services then there is high chance of churn."
   ]
  },
  {
   "cell_type": "code",
   "execution_count": null,
   "id": "1586e5a2",
   "metadata": {
    "scrolled": true
   },
   "outputs": [],
   "source": [
    "# comparing gender and seniorcitizen on the basis of churn\n",
    "plt.title(\"Comparsion between churn and gender\")\n",
    "sns.barplot(x=\"gender\",y=\"SeniorCitizen\",data=df,palette=\"winter_r\",hue=\"Churn\")\n",
    "plt.show()"
   ]
  },
  {
   "cell_type": "markdown",
   "id": "5734afb1",
   "metadata": {},
   "source": [
    "There is no significant difference between the columns. The customer's churns remains unaffected in gender and SeniorCitizen case."
   ]
  },
  {
   "cell_type": "code",
   "execution_count": null,
   "id": "c1c6ff27",
   "metadata": {
    "scrolled": true
   },
   "outputs": [],
   "source": [
    "# comparing totalcharges and monthly charges\n",
    "plt.title('Comparsion between TotalCharges and MonthlyCharges')\n",
    "sns.scatterplot(x=\"TotalCharges\",y=\"MonthlyCharges\",data=df,hue=\"Churn\",palette=\"bright\")\n",
    "plt.show()"
   ]
  },
  {
   "cell_type": "markdown",
   "id": "9d120481",
   "metadata": {},
   "source": [
    "There is a linear relation between the features. The customers with high monthly charges have high tendancy to stop the services since they have high total charges. Also the if the customers ready to contribute with the monthly charges then there is an increment in the total charges."
   ]
  },
  {
   "cell_type": "code",
   "execution_count": null,
   "id": "bbf391ee",
   "metadata": {
    "scrolled": true
   },
   "outputs": [],
   "source": [
    "fig, axes=plt.subplots(2,2,figsize=(12,10))\n",
    "\n",
    "# checking churn level in tenure\n",
    "sns.barplot(x='Dependents',y='tenure',ax=axes[0,0],data=df,palette=\"Dark2\",hue=\"Churn\")\n",
    "\n",
    "# checking churn level in totalcharges\n",
    "sns.violinplot(x='Dependents',y='TotalCharges',ax=axes[0,1],data=df,palette=\"Dark2\",hue=\"Churn\",split=True)\n",
    "\n",
    "# checking churn level in  monthlycharges\n",
    "sns.violinplot(x='Dependents',y='MonthlyCharges',ax=axes[1,0],data=df,palette=\"Dark2\",hue=\"Churn\",split=True)\n",
    "\n",
    "# checking churn level in seniorcitizen\n",
    "sns.barplot(x='Dependents',y='SeniorCitizen',ax=axes[1,1],data=df,palette=\"Dark2\",hue=\"Churn\")\n",
    "plt.show()"
   ]
  },
  {
   "cell_type": "markdown",
   "id": "fa4e4762",
   "metadata": {},
   "source": [
    "The customers who have dependents with high tenure, then the churned level is high80-110.\n",
    "\n",
    "The customers who have total charges in the range of 0-2000 with dependents then the chance of getting churned is high.\n",
    "\n",
    "The customers having Monthly charges between 80-110 with dependents have high churn rate and when the customers have no dependents and having monthly charges around 20 then teh ratio of churn is very high.\n",
    "\n",
    "If the customer is a senior citizen and have no dependents then there is a tendancy of getting churned."
   ]
  },
  {
   "cell_type": "code",
   "execution_count": null,
   "id": "06ba42f5",
   "metadata": {
    "scrolled": true
   },
   "outputs": [],
   "source": [
    "#checking churn level and gender\n",
    "sns.catplot(x='Churn',col='gender',data=df,kind=\"count\",palette=\"spring_r\")\n",
    "\n",
    "# checking churn level and gender\n",
    "sns.catplot(x='Churn',col='Partner',data=df,palette=\"tab20b_r\",kind=\"count\")\n",
    "\n",
    "#checking churn level in dependents\n",
    "sns.catplot(x='Churn',col='Dependents',data=df,palette=\"twilight_shifted\",kind=\"count\")\n",
    "            \n",
    "#checking churn level in phoneservice\n",
    "sns.catplot(x='Churn',col='PhoneService',data=df,palette=\"Dark2\",kind=\"count\")\n",
    "plt.show()"
   ]
  },
  {
   "cell_type": "markdown",
   "id": "c2b3546f",
   "metadata": {},
   "source": [
    "In the first plot we can see there is no significance difference in the genders, both the genders have equal churn level.\n",
    "\n",
    "In the second plot we can see the customers without partners have high churn rate compared to the customers with partners.\n",
    "\n",
    "The customers who do not have any dependency have high churn rate compared to the customers who have dependents.\n",
    "\n",
    "In the last plot we can notice the customers who have phone service have high tendency of getting churned."
   ]
  },
  {
   "cell_type": "code",
   "execution_count": null,
   "id": "4bef787f",
   "metadata": {
    "scrolled": true
   },
   "outputs": [],
   "source": [
    "#checking churn level and multiplelines\n",
    "sns.catplot(x='MultipleLines',col='Churn',palette=\"ocean\",kind=\"count\",data=df)\n",
    "plt.show()"
   ]
  },
  {
   "cell_type": "markdown",
   "id": "cf7e793a",
   "metadata": {},
   "source": [
    "The customers who have phone services from single line have high churn rate compared to the customers having phone services from multiple lines, also there are very less number of customers who do not have phone services."
   ]
  },
  {
   "cell_type": "code",
   "execution_count": null,
   "id": "44c56b57",
   "metadata": {
    "scrolled": true
   },
   "outputs": [],
   "source": [
    "#checking churn level in internetservice\n",
    "sns.catplot(x='InternetService',col='Churn',palette=\"bright\",kind=\"count\",data=df)\n",
    "plt.show()"
   ]
  },
  {
   "cell_type": "markdown",
   "id": "ef0c0ad3",
   "metadata": {},
   "source": [
    "The ratio of churn is high when the customers prefer Fiber optic internet services compared to other services, may be this type of service is bad and and need to be focused on. And the customers who own DSL service they have very less churn rate."
   ]
  },
  {
   "cell_type": "code",
   "execution_count": null,
   "id": "25e0558e",
   "metadata": {
    "scrolled": true
   },
   "outputs": [],
   "source": [
    "#checking churn level in onlinesecurity\n",
    "sns.catplot(x='OnlineSecurity',col='Churn',palette=\"icefire\",kind=\"count\",data=df)\n",
    "plt.show()"
   ]
  },
  {
   "cell_type": "markdown",
   "id": "f766563e",
   "metadata": {},
   "source": [
    "The customers who have no internet service have very less churn rate and the customers who do not have online security services have high tendency to getting churned."
   ]
  },
  {
   "cell_type": "code",
   "execution_count": null,
   "id": "94cd0c01",
   "metadata": {
    "scrolled": true
   },
   "outputs": [],
   "source": [
    "# checking churn level in onlinebackup\n",
    "sns.catplot(x='OnlineBackup',col='Churn',palette=\"prism\",kind=\"count\",data=df)\n",
    "plt.show()"
   ]
  },
  {
   "cell_type": "markdown",
   "id": "b4b907e3",
   "metadata": {},
   "source": [
    "It is also same as in the case of online security. It is obvious that the customers having who do not have internet services they do not need any online backup. The customers who do not have online backup services they have high churn rate."
   ]
  },
  {
   "cell_type": "code",
   "execution_count": null,
   "id": "412d978a",
   "metadata": {
    "scrolled": true
   },
   "outputs": [],
   "source": [
    "# checking churn level in deviceprotection\n",
    "sns.catplot(x='DeviceProtection',hue='Churn',palette=\"gist_heat\",kind=\"count\",data=df)\n",
    "plt.show()"
   ]
  },
  {
   "cell_type": "markdown",
   "id": "1d5e92c7",
   "metadata": {},
   "source": [
    "The customers who do not own any Device protection have very high churn rate compared to others."
   ]
  },
  {
   "cell_type": "code",
   "execution_count": null,
   "id": "2683decc",
   "metadata": {
    "scrolled": true
   },
   "outputs": [],
   "source": [
    "# checking churn level in techsupport\n",
    "sns.catplot(x='TechSupport',col='Churn',palette=\"Set2_r\",kind=\"count\",data=df)\n",
    "plt.show()"
   ]
  },
  {
   "cell_type": "markdown",
   "id": "9f6815ed",
   "metadata": {},
   "source": [
    "Here we can clearly see that the customers who do not have any techsupport then they have high churn ratio."
   ]
  },
  {
   "cell_type": "code",
   "execution_count": null,
   "id": "e3bddbed",
   "metadata": {
    "scrolled": true
   },
   "outputs": [],
   "source": [
    "#checking churn level in streamingTv\n",
    "sns.catplot(x='StreamingTV',hue='Churn',palette=\"cool_r\",kind=\"count\",data=df)\n",
    "plt.show()\n"
   ]
  },
  {
   "cell_type": "markdown",
   "id": "3aafe871",
   "metadata": {},
   "source": [
    "The churn level is nearly same if the customer own StreamingTV or not."
   ]
  },
  {
   "cell_type": "code",
   "execution_count": null,
   "id": "d7989a54",
   "metadata": {
    "scrolled": true
   },
   "outputs": [],
   "source": [
    "# checking churn level in streamingmovies\n",
    "sns.catplot(x='StreamingMovies',hue='Churn',palette='cividis',kind=\"count\",data=df)\n",
    "plt.show()"
   ]
  },
  {
   "cell_type": "markdown",
   "id": "e20ccc03",
   "metadata": {},
   "source": [
    "The customers who are existing in the company they do not own StreamingMovies in their devices And the churn rate is low when the customer do not have internet services."
   ]
  },
  {
   "cell_type": "code",
   "execution_count": null,
   "id": "0788af10",
   "metadata": {
    "scrolled": true
   },
   "outputs": [],
   "source": [
    "#checking churn level in contract\n",
    "sns.catplot(x='Contract',hue='Churn',palette=\"gnuplot2\",kind=\"count\",data=df)\n",
    "plt.show()"
   ]
  },
  {
   "cell_type": "markdown",
   "id": "462bd3dd",
   "metadata": {},
   "source": [
    "The customers who have churned are mostly having month to month contract."
   ]
  },
  {
   "cell_type": "code",
   "execution_count": null,
   "id": "62f7e820",
   "metadata": {
    "scrolled": true
   },
   "outputs": [],
   "source": [
    "# checking churn level in paperlessBillibg\n",
    "sns.catplot(x='PaperlessBilling',hue='Churn',palette=\"gist_earth\",kind=\"count\",data=df)\n",
    "plt.show()"
   ]
  },
  {
   "cell_type": "markdown",
   "id": "05428960",
   "metadata": {},
   "source": [
    "The customers who prefer paperless billing they have chumrate."
   ]
  },
  {
   "cell_type": "code",
   "execution_count": null,
   "id": "11edf0cc",
   "metadata": {
    "scrolled": true
   },
   "outputs": [],
   "source": [
    "# checking churn level in paymentmethod\n",
    "sns.catplot(x='PaymentMethod',hue='Churn',palette=\"gnuplot\",kind=\"count\",data=df)\n",
    "plt.xticks(rotation=90)\n",
    "plt.show()"
   ]
  },
  {
   "cell_type": "markdown",
   "id": "5c3a1ab0",
   "metadata": {},
   "source": [
    "The customers who prefer Electronic check have high churn rate also the customers who existing in the company uses equal payment method."
   ]
  },
  {
   "cell_type": "markdown",
   "id": "61e71c66",
   "metadata": {},
   "source": [
    "## Multivariate Analysis:"
   ]
  },
  {
   "cell_type": "code",
   "execution_count": null,
   "id": "fa02ee62",
   "metadata": {
    "scrolled": true
   },
   "outputs": [],
   "source": [
    "sns.pairplot(df,hue=\"Churn\",palette=\"Dark2\")\n",
    "plt.show()"
   ]
  },
  {
   "cell_type": "markdown",
   "id": "22e54b5f",
   "metadata": {},
   "source": [
    "The pairplot gives the pairwise relation between the features on the basis of the target \"Churn\". On the diagonal we can notice the distribution plots.\n",
    "\n",
    "The features tenure and TotalCharges, Monthlycharges and TotalCharges have strong linear relation with each other.\n",
    "\n",
    "There are no outliers in any of the columns but let's plot box plot to identify the outliers."
   ]
  },
  {
   "cell_type": "code",
   "execution_count": null,
   "id": "03430401",
   "metadata": {
    "scrolled": true
   },
   "outputs": [],
   "source": [
    "# let's check the outliers by plotting bbox plot\n",
    "\n",
    "plt.figure(figsize=(10,8),facecolor='white')\n",
    "plotnumber=1\n",
    "for column in numerical_col:\n",
    "    if plotnumber<=4:\n",
    "        ax=plt.subplot(2,2,plotnumber)\n",
    "        sns.boxplot(df[column],palette=\"Set2_r\")\n",
    "        plt.xlabel(column,fontsize=12)\n",
    "        plt.yticks(rotation=0,size=12)\n",
    "    plotnumber+=1\n",
    "    plt.tight_layout()"
   ]
  },
  {
   "cell_type": "markdown",
   "id": "1c22feed",
   "metadata": {},
   "source": [
    "The column Senior Citizen has outliers but it contains categorical data so no need to remove outliers. Apart from this none of the columns have outliers."
   ]
  },
  {
   "cell_type": "markdown",
   "id": "b512e8f9",
   "metadata": {},
   "source": [
    "## Checking for skewness"
   ]
  },
  {
   "cell_type": "code",
   "execution_count": null,
   "id": "06c61bf7",
   "metadata": {
    "scrolled": true
   },
   "outputs": [],
   "source": [
    "# checking for skewness\n",
    "df.skew()"
   ]
  },
  {
   "cell_type": "markdown",
   "id": "928ff48d",
   "metadata": {},
   "source": [
    "The columns SeniorCitizen and TotalCharges have skewness in the data. Since SeniorCitizen is categorical no need to remove skewness but in TotalCharges. Since TotalCharges is continuous in nature, lets use cube root method to remove skewness."
   ]
  },
  {
   "cell_type": "markdown",
   "id": "a2e453de",
   "metadata": {},
   "source": [
    "## Removing skewness"
   ]
  },
  {
   "cell_type": "code",
   "execution_count": null,
   "id": "950cd514",
   "metadata": {
    "scrolled": true
   },
   "outputs": [],
   "source": [
    "# removing skewness using square root method\n",
    "df[\"TotalCharges\"] = np.cbrt(df[\"TotalCharges\"])"
   ]
  },
  {
   "cell_type": "markdown",
   "id": "efe5351d",
   "metadata": {},
   "source": [
    "we have removed the skewness using cube root method."
   ]
  },
  {
   "cell_type": "code",
   "execution_count": null,
   "id": "319e094a",
   "metadata": {
    "scrolled": true
   },
   "outputs": [],
   "source": [
    "#checking skewness\n",
    "df.skew()"
   ]
  },
  {
   "cell_type": "markdown",
   "id": "b28eb725",
   "metadata": {},
   "source": [
    "We can see the skewness has been reduced in TotalCharges column."
   ]
  },
  {
   "cell_type": "code",
   "execution_count": null,
   "id": "fcb3051e",
   "metadata": {
    "scrolled": true
   },
   "outputs": [],
   "source": [
    "# let's visualize how the data has been distributed in toatalchharges after removing skewness\n",
    "sns.distplot(df[\"TotalCharges\"],color=\"m\",kde_kws={\"shade\": True},hist=False)\n",
    "plt.show()"
   ]
  },
  {
   "cell_type": "markdown",
   "id": "8fe7bcb0",
   "metadata": {},
   "source": [
    "The looks almost normal and skewness is removed.    "
   ]
  },
  {
   "cell_type": "markdown",
   "id": "1b564c1c",
   "metadata": {},
   "source": [
    "## Pre-Processing Pipeline"
   ]
  },
  {
   "cell_type": "markdown",
   "id": "a3b74f9c",
   "metadata": {},
   "source": [
    "#### Encoding the categorical columns using Ordinal Encoding"
   ]
  },
  {
   "cell_type": "code",
   "execution_count": null,
   "id": "ecb92861",
   "metadata": {
    "scrolled": true
   },
   "outputs": [],
   "source": [
    "from sklearn.preprocessing import OrdinalEncoder\n",
    "OE = OrdinalEncoder()\n",
    "for i in df.columns:\n",
    "    if df[i].dtypes==\"object\":\n",
    "        df[i]=OE.fit_transform(df[i].values.reshape(-1,1))\n",
    "df"
   ]
  },
  {
   "cell_type": "markdown",
   "id": "c680ab70",
   "metadata": {},
   "source": [
    "Now we have converted the categorical columns into numerical columns using Ordinal Encoding method."
   ]
  },
  {
   "cell_type": "code",
   "execution_count": null,
   "id": "07b0ccbe",
   "metadata": {
    "scrolled": true
   },
   "outputs": [],
   "source": [
    "# statistical summary of numerical columns\n",
    "df.describe()"
   ]
  },
  {
   "cell_type": "markdown",
   "id": "5e3d7333",
   "metadata": {},
   "source": [
    "After encoding the categorical column we are able to see all the columns details here. The counts of all the columns are same that means no null values in the dataset. This describe method descrbes the count, mean, standard deviation, min, IQR and max values of all the columns."
   ]
  },
  {
   "cell_type": "markdown",
   "id": "838a0122",
   "metadata": {},
   "source": [
    "### Correlation between the target variable and independent variables using HEAT map"
   ]
  },
  {
   "cell_type": "code",
   "execution_count": null,
   "id": "2201f1fe",
   "metadata": {
    "scrolled": true
   },
   "outputs": [],
   "source": [
    "#checking the correlatipon between features and the target\n",
    "cor =df.corr()\n",
    "cor"
   ]
  },
  {
   "cell_type": "markdown",
   "id": "552ae45b",
   "metadata": {},
   "source": [
    "This gives the correlation between the dependent and independent variables. We can visualize this by plotting heat map."
   ]
  },
  {
   "cell_type": "code",
   "execution_count": null,
   "id": "1e82cfc4",
   "metadata": {
    "scrolled": true
   },
   "outputs": [],
   "source": [
    "#visualizing the correlation matrix by plotting heat map\n",
    "plt.figure(figsize=(20,15))\n",
    "sns.heatmap(df.corr(),linewidths=.1, vmin=-1, vmax=1, fmt='.1g',linecolor=\"black\", annot = True, annot_kws={'size':10},cmap=\"cubehelix_r\")\n",
    "plt.yticks(rotation=0);"
   ]
  },
  {
   "cell_type": "markdown",
   "id": "d8ad3dc1",
   "metadata": {},
   "source": [
    "This heatmap shows the correlation matrix by visualizing the data. we can observe the relation between feature to feature and feature to label. This heat mapcontains both positive and negative correlation.\n",
    "\n",
    "There is no much positive correlation between the target and features.\n",
    "\n",
    "The columns MonthlyCharges, PaperlessBilling, SeniorCitizen and PaymentMethod have positive collrelation with the label Churn.\n",
    "\n",
    "The label is negatively correlated with Contract, tenure, OnlineSecurity, TechSupport, TotalCharges, DeviceProtection, OnlineBackup, Partner and Dependents.\n",
    "\n",
    "Also the column gender has very less correlation with the label, we can drop it if necessary.\n",
    "\n",
    "The columns TotalCharges and tenure, Contract and tenure, TotalCharges and MonthlyCharges and many other columns have high correlation with each other. This leads to multicolllinearity issue, to overcome with this problem we will check VIF values and then we will drop the columns having VIF above 10."
   ]
  },
  {
   "cell_type": "code",
   "execution_count": null,
   "id": "6ee4760f",
   "metadata": {
    "scrolled": true
   },
   "outputs": [],
   "source": [
    "cor['Churn'].sort_values(ascending=False)"
   ]
  },
  {
   "cell_type": "markdown",
   "id": "a2ef9ef2",
   "metadata": {},
   "source": [
    "We can observe the positive(+) and negative(-) correlated features with the target here"
   ]
  },
  {
   "cell_type": "markdown",
   "id": "4dc1bcbd",
   "metadata": {},
   "source": [
    "### Visualizing the correlation between label and features using barplot"
   ]
  },
  {
   "cell_type": "code",
   "execution_count": null,
   "id": "605a126f",
   "metadata": {
    "scrolled": true
   },
   "outputs": [],
   "source": [
    "plt.figure(figsize=(22,7))\n",
    "df.corr()['Churn'].sort_values(ascending=False).drop(['Churn']).plot(kind='bar',color=\"m\")\n",
    "plt.xlabel('Feature',fontsize=20)\n",
    "plt.ylabel('Target',fontsize=20)\n",
    "plt.title('correlation between label and feature using bar plot',fontsize=25)\n",
    "plt.show()"
   ]
  },
  {
   "cell_type": "markdown",
   "id": "f6d39ee5",
   "metadata": {},
   "source": [
    "from the above bar plot we can notice the positive(+) and negative(-) correlation between the features and the target. Here the features gender and PhoneService have very less correlation with the column."
   ]
  },
  {
   "cell_type": "markdown",
   "id": "3d83dddd",
   "metadata": {},
   "source": [
    "### Separting the feature and label into x and y"
   ]
  },
  {
   "cell_type": "code",
   "execution_count": null,
   "id": "ca497ee6",
   "metadata": {
    "scrolled": true
   },
   "outputs": [],
   "source": [
    "x= df.drop(\"Churn\",axis=1)\n",
    "y= df[\"Churn\"]"
   ]
  },
  {
   "cell_type": "code",
   "execution_count": null,
   "id": "bf8bb710",
   "metadata": {
    "scrolled": true
   },
   "outputs": [],
   "source": [
    "#dimension  of x\n",
    "x.shape"
   ]
  },
  {
   "cell_type": "code",
   "execution_count": null,
   "id": "ad863de1",
   "metadata": {
    "scrolled": true
   },
   "outputs": [],
   "source": [
    "#dimension of y\n",
    "y.shape"
   ]
  },
  {
   "cell_type": "markdown",
   "id": "42bc6383",
   "metadata": {},
   "source": [
    "##  Building Machine Learning Models."
   ]
  },
  {
   "cell_type": "markdown",
   "id": "a2447e9e",
   "metadata": {},
   "source": [
    "#### Feature Scaling using Standard Scalarization"
   ]
  },
  {
   "cell_type": "code",
   "execution_count": null,
   "id": "ab19f4b2",
   "metadata": {
    "scrolled": true
   },
   "outputs": [],
   "source": [
    "from sklearn.preprocessing import StandardScaler\n",
    "\n",
    "scaler=StandardScaler()\n",
    "x=pd.DataFrame(scaler.fit_transform(x),columns=x.columns)\n",
    "x"
   ]
  },
  {
   "cell_type": "markdown",
   "id": "d0da7076",
   "metadata": {},
   "source": [
    "We have scaled the data using standard scalarizaion method to overcome with the issue of data biasness.\n",
    "\n",
    "In the heat map we have found some features having high correlation between each other which means multicollinearity problem so let's check the VIF value to solve multicollinearity problem."
   ]
  },
  {
   "cell_type": "markdown",
   "id": "b3f242ad",
   "metadata": {},
   "source": [
    "### Checking Variance Inflation Factor(VIF)"
   ]
  },
  {
   "cell_type": "code",
   "execution_count": null,
   "id": "395043e6",
   "metadata": {
    "scrolled": true
   },
   "outputs": [],
   "source": [
    "# Finding varience inflation factor in each scaled column i.e, x.shape[1] (1/(1-R2))\n",
    "\n",
    "from statsmodels.stats.outliers_influence import variance_inflation_factor\n",
    "vif = pd.DataFrame()\n",
    "vif[\"VIF values\"] = [variance_inflation_factor(x.values,i)\n",
    "              for i in range(len(x.columns))]\n",
    "vif[\"Features\"] = x.columns\n",
    "\n",
    "# Let's check the values\n",
    "vif"
   ]
  },
  {
   "cell_type": "markdown",
   "id": "f77d1d0f",
   "metadata": {},
   "source": [
    "By checking VIF value we can find the features which causing multicollinearity problem. Here we can find the feature TotalCharges and tenure have VIF value greater than 10 which means they have high correlation with the other features. We will drop one of the column first, if the same issue exist then we will try to remove the column having high VIF(above 10)."
   ]
  },
  {
   "cell_type": "code",
   "execution_count": null,
   "id": "9941bd99",
   "metadata": {
    "scrolled": true
   },
   "outputs": [],
   "source": [
    "#Again checking VIF value to confirm whether the multicollinearity still exists or not\n",
    "vif = pd.DataFrame()\n",
    "vif[\"VIF values\"] = [variance_inflation_factor(x.values,i)\n",
    "              for i in range(len(x.columns))]\n",
    "vif[\"Features\"] = x.columns\n",
    "\n",
    "#let's check the values\n",
    "vif"
   ]
  },
  {
   "cell_type": "markdown",
   "id": "2a56a577",
   "metadata": {},
   "source": [
    "All the columns have VIF less than 10 which means the data is free from multicollinearity problem. So we can move further to build our machine learning models."
   ]
  },
  {
   "cell_type": "code",
   "execution_count": null,
   "id": "0feef89a",
   "metadata": {
    "scrolled": true
   },
   "outputs": [],
   "source": [
    "y.value_counts()"
   ]
  },
  {
   "cell_type": "markdown",
   "id": "5ef259ee",
   "metadata": {},
   "source": [
    "Here we can observe the data is not balanced, since it is classification problem we will balance the data using oversampling method."
   ]
  },
  {
   "cell_type": "markdown",
   "id": "2b8a7b9e",
   "metadata": {},
   "source": [
    "We have used oversampling method to balance the data and checked the value count.\n",
    "\n",
    "Since the highest count of Churn column is 5174 so the data is balanced by oversampling all the categories to the count 5174.\n",
    "\n",
    "Finally the data is also balanced then we can build our machine leaning classification models."
   ]
  },
  {
   "cell_type": "markdown",
   "id": "a317b544",
   "metadata": {},
   "source": [
    "## Modeling"
   ]
  },
  {
   "cell_type": "markdown",
   "id": "6ec24066",
   "metadata": {},
   "source": [
    "#### Finding the best Randomstate"
   ]
  },
  {
   "cell_type": "code",
   "execution_count": null,
   "id": "6b7567a4",
   "metadata": {
    "scrolled": true
   },
   "outputs": [],
   "source": [
    "from sklearn.ensemble import RandomForestClassifier\n",
    "from sklearn.model_selection import train_test_split\n",
    "from sklearn.metrics import accuracy_score\n",
    "maxAccu=0\n",
    "maxRS=0\n",
    "for i in range(1,200):\n",
    "    x_train,x_test,y_train,y_test = train_test_split(x,y,test_size=.30, random_state =i)\n",
    "    DTC = RandomForestClassifier()\n",
    "    DTC.fit(x_train, y_train)\n",
    "    pred = DTC.predict(x_test)\n",
    "    acc=accuracy_score(y_test, pred)\n",
    "    if acc>maxAccu:\n",
    "        maxAccu=acc\n",
    "        maxRS=i\n",
    "print(\"Best accuracy is \",maxAccu,\"on Random_state\",maxRS)"
   ]
  },
  {
   "cell_type": "markdown",
   "id": "3b51b0d6",
   "metadata": {},
   "source": [
    "We have got the best random state and maximum accuracy"
   ]
  },
  {
   "cell_type": "markdown",
   "id": "f4a699a3",
   "metadata": {},
   "source": [
    "### Creating Train_test split"
   ]
  },
  {
   "cell_type": "code",
   "execution_count": null,
   "id": "ca866a03",
   "metadata": {
    "scrolled": true
   },
   "outputs": [],
   "source": [
    "from sklearn.model_selection import train_test_split\n",
    "x_train,x_test,y_train,y_test=train_test_split(x,y,test_size=.30,random_state=maxRS)"
   ]
  },
  {
   "cell_type": "markdown",
   "id": "747a7f2e",
   "metadata": {},
   "source": [
    "we have created a new train test split using Random State."
   ]
  },
  {
   "cell_type": "markdown",
   "id": "1e1317c3",
   "metadata": {},
   "source": [
    "## Classification Algorithms"
   ]
  },
  {
   "cell_type": "code",
   "execution_count": null,
   "id": "3fe941c5",
   "metadata": {
    "scrolled": true
   },
   "outputs": [],
   "source": [
    "### importing necessary libraries.\n",
    "from sklearn.tree import DecisionTreeClassifier\n",
    "from sklearn.ensemble import RandomForestClassifier\n",
    "from sklearn.svm import SVC\n",
    "from sklearn.naive_bayes import BernoulliNB\n",
    "from sklearn.ensemble import ExtraTreesClassifier\n",
    "from sklearn.linear_model import LogisticRegression\n",
    "from sklearn.metrics import classification_report\n",
    "from sklearn.ensemble import GradientBoostingClassifier\n",
    "from sklearn.neighbors import KNeighborsClassifier as KNN\n",
    "from sklearn.naive_bayes import GaussianNB as NB\n",
    "from sklearn.metrics import classification_report, confusion_matrix, roc_curve, roc_auc_score, accuracy_score"
   ]
  },
  {
   "cell_type": "markdown",
   "id": "c8032aa5",
   "metadata": {},
   "source": [
    "#### 1.) RandomForestClassifier"
   ]
  },
  {
   "cell_type": "code",
   "execution_count": null,
   "id": "0bb444b2",
   "metadata": {
    "scrolled": true
   },
   "outputs": [],
   "source": [
    "# Checking accuracy for Random Forest Classifier\n",
    "RFC = RandomForestClassifier()\n",
    "RFC.fit(x_train,y_train)\n",
    "\n",
    "# Prediction\n",
    "predRFC = RFC.predict(x_test)\n",
    "\n",
    "print(accuracy_score(y_test, predRFC))\n",
    "print(confusion_matrix(y_test, predRFC))\n",
    "print(classification_report(y_test,predRFC))"
   ]
  },
  {
   "cell_type": "markdown",
   "id": "735c2b67",
   "metadata": {},
   "source": [
    "Here we have created the Random Forest Classifier model and getting the accuracy for this model as 80.64%."
   ]
  },
  {
   "cell_type": "code",
   "execution_count": null,
   "id": "0139399b",
   "metadata": {
    "scrolled": true
   },
   "outputs": [],
   "source": [
    "# Lets plot confusion matrix for RandomForestClassifier\n",
    "cm = confusion_matrix(y_test,predRFC)\n",
    "\n",
    "x_axis_labels = [\"0\",\"1\"]\n",
    "y_axis_labels = [\"0\",\"1\"]\n",
    "\n",
    "f , ax = plt.subplots(figsize=(7,7))\n",
    "sns.heatmap(cm, annot = True,linewidths=.2, linecolor=\"black\", fmt = \".0f\", ax=ax, cmap=\"gnuplot\",xticklabels=x_axis_labels,yticklabels=y_axis_labels)\n",
    "\n",
    "plt.xlabel(\"PREDICTED LABEL\")\n",
    "plt.ylabel(\"TRUE LABEL\")\n",
    "plt.title('Confusion Matrix for RandomForestClassifier')\n",
    "plt.show()"
   ]
  },
  {
   "cell_type": "markdown",
   "id": "30339a67",
   "metadata": {},
   "source": [
    "With the help of confusion matrix we can able observe the true positive rate, false positive rate, true negative rate and false negative rate. And is plotted predicted value againt True values."
   ]
  },
  {
   "cell_type": "markdown",
   "id": "82a6effe",
   "metadata": {},
   "source": [
    "#### 3.)Logistic Regression"
   ]
  },
  {
   "cell_type": "code",
   "execution_count": null,
   "id": "e4e50067",
   "metadata": {
    "scrolled": true
   },
   "outputs": [],
   "source": [
    "# Checking accuracy for Logistic Regression Classifier\n",
    "\n",
    "LR = LogisticRegression()\n",
    "LR.fit(x_train,y_train)\n",
    "\n",
    "# Prediction\n",
    "predLR = LR.predict(x_test)\n",
    "\n",
    "print(accuracy_score(y_test, predLR))\n",
    "print(confusion_matrix(y_test, predLR))\n",
    "print(classification_report(y_test,predLR))"
   ]
  },
  {
   "cell_type": "markdown",
   "id": "1f0e593c",
   "metadata": {},
   "source": [
    "We have created Logistic Regression model which is giving the accuracy 81.02%"
   ]
  },
  {
   "cell_type": "code",
   "execution_count": null,
   "id": "7db3a4df",
   "metadata": {
    "scrolled": true
   },
   "outputs": [],
   "source": [
    "# Lets plot confusion matrix for Logistic Regression\n",
    "cm = confusion_matrix(y_test,predLR)\n",
    "\n",
    "x_axis_labels = [\"0\",\"1\"]\n",
    "y_axis_labels = [\"0\",\"1\"]\n",
    "\n",
    "f , ax = plt.subplots(figsize=(8,8))\n",
    "sns.heatmap(cm, annot = True,linewidths=.2, linecolor=\"black\", fmt = \".0f\", ax=ax, cmap=\"gnuplot\",xticklabels=x_axis_labels,yticklabels=y_axis_labels)\n",
    "\n",
    "plt.xlabel(\"PREDICTED LABEL\")\n",
    "plt.ylabel(\"TRUE LABEL\")\n",
    "plt.title('Confusion Matrix for Logistic Regression Classifier')\n",
    "plt.show()"
   ]
  },
  {
   "cell_type": "markdown",
   "id": "7a021cd8",
   "metadata": {},
   "source": [
    "With the help of confusion matrix we can able observe the true positive rate, false positive rate, true negative rate and false negative rate. And is plotted predicted value againt True values."
   ]
  },
  {
   "cell_type": "markdown",
   "id": "42948fac",
   "metadata": {},
   "source": [
    "### Support Vector Machine Classifier"
   ]
  },
  {
   "cell_type": "code",
   "execution_count": null,
   "id": "6a32844a",
   "metadata": {
    "scrolled": true
   },
   "outputs": [],
   "source": [
    "# checking accuracy for support vector machine classifier\n",
    "svc = SVC()\n",
    "svc.fit(x_train,y_train)\n",
    "\n",
    "# Prediction\n",
    "predsvc = svc.predict(x_test)\n",
    "\n",
    "print(accuracy_score(y_test, predsvc))\n",
    "print(confusion_matrix(y_test, predsvc))\n",
    "print(classification_report(y_test,predsvc))"
   ]
  },
  {
   "cell_type": "markdown",
   "id": "f3f1903e",
   "metadata": {},
   "source": [
    "Created SVC model and it is giving the accuracy as 80.45%."
   ]
  },
  {
   "cell_type": "code",
   "execution_count": null,
   "id": "ec32b7fc",
   "metadata": {
    "scrolled": true
   },
   "outputs": [],
   "source": [
    "# Lets plot confusion matrix for Support Vector Machine Classifier\n",
    "\n",
    "cm = confusion_matrix(y_test,predsvc)\n",
    "\n",
    "x_axis_labels = [\"0\",\"1\"]\n",
    "y_axis_labels = [\"0\",\"1\"]\n",
    "\n",
    "f , ax = plt.subplots(figsize=(8,8))\n",
    "sns.heatmap(cm, annot = True,linewidths=.2, linecolor=\"black\", fmt = \".0f\", ax=ax, cmap=\"gnuplot\",xticklabels=x_axis_labels,yticklabels=y_axis_labels)\n",
    "\n",
    "plt.xlabel(\"PREDICTED LABEL\")\n",
    "plt.ylabel(\"TRUE LABEL\")\n",
    "plt.title('Confusion Matrix for Support Vector Machine Classifier')\n",
    "plt.show()\n"
   ]
  },
  {
   "cell_type": "markdown",
   "id": "0cb77e28",
   "metadata": {},
   "source": [
    "With the help of confusion matrix we can able observe the true positive rate, false positive rate, true negative rate and false negative rate. And is plotted predicted value againt True values."
   ]
  },
  {
   "cell_type": "markdown",
   "id": "81372faf",
   "metadata": {},
   "source": [
    "#### Gradient Boosting Classifier"
   ]
  },
  {
   "cell_type": "code",
   "execution_count": null,
   "id": "cc26097a",
   "metadata": {
    "scrolled": true
   },
   "outputs": [],
   "source": [
    "# Checking accuracy for Gradient Boosting Classifier\n",
    "\n",
    "GB = GradientBoostingClassifier()\n",
    "GB.fit(x_train,y_train)\n",
    "\n",
    "# Prediction\n",
    "predGB = GB.predict(x_test)\n",
    "\n",
    "print(accuracy_score(y_test, predGB))\n",
    "print(confusion_matrix(y_test, predGB))\n",
    "print(classification_report(y_test,predGB))"
   ]
  },
  {
   "cell_type": "markdown",
   "id": "abdf6f3f",
   "metadata": {},
   "source": [
    "We have created Gradient Boosting Classifier and the accuracy is 81.68%."
   ]
  },
  {
   "cell_type": "code",
   "execution_count": null,
   "id": "87b3e577",
   "metadata": {
    "scrolled": true
   },
   "outputs": [],
   "source": [
    "# Lets plot confusion matrix for Gradient Boosting Classifier\n",
    "\n",
    "cm = confusion_matrix(y_test,predGB)\n",
    "\n",
    "x_axis_labels = [\"0\",\"1\"]\n",
    "y_axis_labels = [\"0\",\"1\"]\n",
    "\n",
    "f , ax = plt.subplots(figsize=(7,7))\n",
    "sns.heatmap(cm, annot = True,linewidths=.2, linecolor=\"black\", fmt = \".0f\", ax=ax, cmap=\"gnuplot\",xticklabels=x_axis_labels,yticklabels=y_axis_labels)\n",
    "\n",
    "plt.xlabel(\"PREDICTED LABEL\")\n",
    "plt.ylabel(\"TRUE LABEL\")\n",
    "plt.title('Confusion Matrix for Gradient Boosting Classifier')\n",
    "plt.show()"
   ]
  },
  {
   "cell_type": "markdown",
   "id": "b1852178",
   "metadata": {},
   "source": [
    "With the help of confusion matrix we can able observe the true positive rate, false positive rate, true negative rate and false negative rate. And is plotted predicted value againt True val"
   ]
  },
  {
   "cell_type": "markdown",
   "id": "6d758d04",
   "metadata": {},
   "source": [
    "### Extra Trees Classifier"
   ]
  },
  {
   "cell_type": "code",
   "execution_count": null,
   "id": "8bd2de03",
   "metadata": {
    "scrolled": true
   },
   "outputs": [],
   "source": [
    "# Checking accuracy for ExtraTreesClassifier\n",
    "XT = ExtraTreesClassifier()\n",
    "XT.fit(x_train,y_train)\n",
    "\n",
    "# Prediction\n",
    "predXT = XT.predict(x_test)\n",
    "\n",
    "print(accuracy_score(y_test, predXT))\n",
    "print(confusion_matrix(y_test, predXT))\n",
    "print(classification_report(y_test,predXT))"
   ]
  },
  {
   "cell_type": "markdown",
   "id": "ca44f746",
   "metadata": {},
   "source": [
    "Created ExtraTrees Classifier model and getting accuracy for this model as 79.55%."
   ]
  },
  {
   "cell_type": "code",
   "execution_count": null,
   "id": "4435e842",
   "metadata": {
    "scrolled": true
   },
   "outputs": [],
   "source": [
    "# Lets plot confusion matrix for  ExtraTreesClassifier\n",
    "\n",
    "cm = confusion_matrix(y_test,predXT)\n",
    "\n",
    "x_axis_labels = [\"0\",\"1\"]\n",
    "y_axis_labels = [\"0\",\"1\"]\n",
    "\n",
    "f , ax = plt.subplots(figsize=(7,7))\n",
    "sns.heatmap(cm, annot = True,linewidths=.2, linecolor=\"black\", fmt = \".0f\", ax=ax, cmap=\"gnuplot\",xticklabels=x_axis_labels,yticklabels=y_axis_labels)\n",
    "\n",
    "plt.xlabel(\"PREDICTED LABEL\")\n",
    "plt.ylabel(\"TRUE LABEL\")\n",
    "plt.title('Confusion Matrix for  ExtraTrees Classifier')\n",
    "plt.show\n"
   ]
  },
  {
   "cell_type": "markdown",
   "id": "f14fbeac",
   "metadata": {},
   "source": [
    "With the help of confusion matrix we can able observe the true positive rate, false positive rate, true negative rate and false negative rate. And is plotted predicted value againt True values."
   ]
  },
  {
   "cell_type": "markdown",
   "id": "c4a4ac04",
   "metadata": {},
   "source": [
    "## Cross Validation Score"
   ]
  },
  {
   "cell_type": "code",
   "execution_count": null,
   "id": "1031d558",
   "metadata": {
    "scrolled": true
   },
   "outputs": [],
   "source": [
    "#Importing library\n",
    "from sklearn.model_selection import cross_val_score"
   ]
  },
  {
   "cell_type": "code",
   "execution_count": null,
   "id": "a0b377b1",
   "metadata": {
    "scrolled": true
   },
   "outputs": [],
   "source": [
    "# cv score for random forest classifier\n",
    "print(cross_val_score(RFC,x,y,cv=5).mean())"
   ]
  },
  {
   "cell_type": "code",
   "execution_count": null,
   "id": "10b73c4f",
   "metadata": {
    "scrolled": true
   },
   "outputs": [],
   "source": [
    "# cv score for logistic regression\n",
    "print(cross_val_score(LR,x,y,cv=5).mean())"
   ]
  },
  {
   "cell_type": "code",
   "execution_count": null,
   "id": "8ca50fde",
   "metadata": {
    "scrolled": true
   },
   "outputs": [],
   "source": [
    "# cv score for support vector machine classifier\n",
    "print(cross_val_score(svc,x,y,cv=5).mean())"
   ]
  },
  {
   "cell_type": "code",
   "execution_count": null,
   "id": "bc324a41",
   "metadata": {
    "scrolled": true
   },
   "outputs": [],
   "source": [
    "# cv score for Gradient Boosting Classifier\n",
    "print(cross_val_score(GB,x,y,cv=5).mean())"
   ]
  },
  {
   "cell_type": "code",
   "execution_count": null,
   "id": "32e5bfe8",
   "metadata": {
    "scrolled": true
   },
   "outputs": [],
   "source": [
    "# cv score for Extra Trees Classifier\n",
    "print(cross_val_score(XT,x,y,cv=5).mean())"
   ]
  },
  {
   "cell_type": "markdown",
   "id": "53952a20",
   "metadata": {},
   "source": [
    "above are all the cross validation score or the models\n",
    "\n",
    "The difference between accuracy score and cross validation score for the models used\n",
    "\n",
    "Random Forest Classifier = 1.46%\n",
    "\n",
    "Logistic Regression = 1.03%\n",
    "\n",
    "SVC = 1.97%\n",
    "\n",
    "Gradient Boosting Classifier = 2.34%\n",
    "\n",
    "ExtraTrees Classifier = 0.67%"
   ]
  },
  {
   "cell_type": "markdown",
   "id": "0ed1930d",
   "metadata": {},
   "source": [
    "### Hyper Parameter Tuning"
   ]
  },
  {
   "cell_type": "code",
   "execution_count": null,
   "id": "24f9c08c",
   "metadata": {
    "scrolled": true
   },
   "outputs": [],
   "source": [
    "# ExtraTrees Classifier\n",
    "\n",
    "from sklearn.model_selection import GridSearchCV\n",
    "\n",
    "parameters = {'criterion' : ['gini','entropy'],\n",
    "              'random_state' : [10, 50, 1000],\n",
    "              'max_depth' : [0, 10, 20],\n",
    "              'n_jobs' : [-2, -1, 1],\n",
    "              'n_estimators' : [50,100, 200, 300]}"
   ]
  },
  {
   "cell_type": "markdown",
   "id": "b41853c8",
   "metadata": {},
   "source": [
    "These are the parameters for Extra Trees classifier."
   ]
  },
  {
   "cell_type": "code",
   "execution_count": null,
   "id": "992fa7a8",
   "metadata": {
    "scrolled": true
   },
   "outputs": [],
   "source": [
    "GCV=GridSearchCV(ExtraTreesClassifier(),parameters,cv=5)"
   ]
  },
  {
   "cell_type": "markdown",
   "id": "f7ddb542",
   "metadata": {},
   "source": [
    "Running GridSearchCV for Extra Trees Classifier."
   ]
  },
  {
   "cell_type": "code",
   "execution_count": null,
   "id": "09fc2ef7",
   "metadata": {
    "scrolled": true
   },
   "outputs": [],
   "source": [
    "GCV.fit(x_train,y_train)"
   ]
  },
  {
   "cell_type": "code",
   "execution_count": null,
   "id": "41102e93",
   "metadata": {
    "scrolled": true
   },
   "outputs": [],
   "source": [
    "GCV.best_params_"
   ]
  },
  {
   "cell_type": "markdown",
   "id": "a179056b",
   "metadata": {},
   "source": [
    "These are the best parameters values that we have got for Extra Trees classifier."
   ]
  },
  {
   "cell_type": "code",
   "execution_count": 126,
   "id": "ed78f59f",
   "metadata": {
    "scrolled": true
   },
   "outputs": [
    {
     "name": "stdout",
     "output_type": "stream",
     "text": [
      "79.5551348793185\n"
     ]
    }
   ],
   "source": [
    "FinalModel = ExtraTreesClassifier(criterion='gini', max_depth=20, n_estimators=300, n_jobs=-2, random_state=10)\n",
    "FinalModel.fit(x_train, y_train)\n",
    "pred = FinalModel.predict(x_test)\n",
    "acc=accuracy_score(y_test,pred)\n",
    "print(acc*100)"
   ]
  },
  {
   "cell_type": "markdown",
   "id": "97ebf221",
   "metadata": {},
   "source": [
    "The accuracy of best model increased after tuning and giving 86.82% which is very good."
   ]
  },
  {
   "cell_type": "code",
   "execution_count": 127,
   "id": "0cb8802f",
   "metadata": {},
   "outputs": [
    {
     "data": {
      "image/png": "[encoded data removed]",
      "text/plain": [
       "<Figure size 504x504 with 2 Axes>"
      ]
     },
     "metadata": {
      "needs_background": "light"
     },
     "output_type": "display_data"
    }
   ],
   "source": [
    "# Lets plot confusion matrix for  FinalModel\n",
    "\n",
    "cm = confusion_matrix(y_test,pred)\n",
    "\n",
    "x_axis_labels = [\"0\",\"1\"]\n",
    "y_axis_labels = [\"0\",\"1\"]\n",
    "\n",
    "f , ax = plt.subplots(figsize=(7,7))\n",
    "sns.heatmap(cm, annot = True,linewidths=.2, linecolor=\"black\", fmt = \".0f\", ax=ax, cmap=\"ocean\",xticklabels=x_axis_labels,yticklabels=y_axis_labels)\n",
    "\n",
    "plt.xlabel(\"PREDICTED LABEL\")\n",
    "plt.ylabel(\"TRUE LABEL\")\n",
    "plt.title('Confusion Matrix for  Final Model')\n",
    "plt.show()"
   ]
  },
  {
   "cell_type": "markdown",
   "id": "e59efcb7",
   "metadata": {},
   "source": [
    "With the help of confusion matrix we can able to see actual and predicted values."
   ]
  },
  {
   "cell_type": "markdown",
   "id": "167535fb",
   "metadata": {},
   "source": [
    "#### Plotting ROC and compare AUC for all the models used"
   ]
  },
  {
   "cell_type": "code",
   "execution_count": 129,
   "id": "3217801e",
   "metadata": {},
   "outputs": [
    {
     "data": {
      "image/png": "[encoded data removed]",
      "text/plain": [
       "<Figure size 432x288 with 1 Axes>"
      ]
     },
     "metadata": {
      "needs_background": "light"
     },
     "output_type": "display_data"
    }
   ],
   "source": [
    "# Plotting for all the models used here\n",
    "from sklearn import datasets \n",
    "from sklearn import metrics\n",
    "from sklearn import model_selection\n",
    "from sklearn.metrics import plot_roc_curve \n",
    "\n",
    "\n",
    "disp = plot_roc_curve(XT,x_test,y_test)     # ax_=Axes with confusion matrix\n",
    "plot_roc_curve(RFC, x_test, y_test, ax=disp.ax_)\n",
    "plot_roc_curve(LR, x_test, y_test, ax=disp.ax_)\n",
    "plot_roc_curve(svc, x_test, y_test, ax=disp.ax_)\n",
    "plot_roc_curve(GB, x_test, y_test, ax=disp.ax_)\n",
    "\n",
    "plt.legend(prop={'size':11}, loc='lower right')\n",
    "plt.show()"
   ]
  },
  {
   "cell_type": "markdown",
   "id": "1f816874",
   "metadata": {},
   "source": [
    "#### Plotting ROC and Compare AUC for the best model"
   ]
  },
  {
   "cell_type": "code",
   "execution_count": 130,
   "id": "d15fc30c",
   "metadata": {},
   "outputs": [
    {
     "data": {
      "image/png": "[encoded data removed]",
      "text/plain": [
       "<Figure size 432x288 with 1 Axes>"
      ]
     },
     "metadata": {
      "needs_background": "light"
     },
     "output_type": "display_data"
    }
   ],
   "source": [
    "# Let's check the Auc for the best model after hyper parameter tuning\n",
    "plot_roc_curve(FinalModel, x_test, y_test)\n",
    "plt.title(\"ROC for the best model\")\n",
    "plt.show()"
   ]
  },
  {
   "cell_type": "markdown",
   "id": "bc55aa11",
   "metadata": {},
   "source": [
    "## Saving The Model"
   ]
  },
  {
   "cell_type": "code",
   "execution_count": 131,
   "id": "eac6543a",
   "metadata": {},
   "outputs": [
    {
     "data": {
      "text/plain": [
       "['Customer_Churn_Analysis.pkl']"
      ]
     },
     "execution_count": 131,
     "metadata": {},
     "output_type": "execute_result"
    }
   ],
   "source": [
    "# Saving the model using .pkl\n",
    "import joblib\n",
    "joblib.dump(FinalModel,\"Customer_Churn_Analysis.pkl\")"
   ]
  },
  {
   "cell_type": "markdown",
   "id": "e9c4c888",
   "metadata": {},
   "source": [
    "We have saved our model using joblib library."
   ]
  },
  {
   "cell_type": "markdown",
   "id": "dd69f770",
   "metadata": {},
   "source": [
    "### Predicting the saved model"
   ]
  },
  {
   "cell_type": "code",
   "execution_count": 132,
   "id": "eaa72555",
   "metadata": {},
   "outputs": [
    {
     "data": {
      "text/plain": [
       "array([0., 0., 0., ..., 0., 0., 0.])"
      ]
     },
     "execution_count": 132,
     "metadata": {},
     "output_type": "execute_result"
    }
   ],
   "source": [
    "# Let's load the saved model and get the prediction\n",
    "\n",
    "# Loading the saved model\n",
    "model=joblib.load(\"Customer_Churn_Analysis.pkl\")\n",
    "\n",
    "#Prediction\n",
    "prediction = model.predict(x_test)\n",
    "prediction"
   ]
  },
  {
   "cell_type": "markdown",
   "id": "690e27fd",
   "metadata": {},
   "source": [
    "These are the predicted churned values of the customers."
   ]
  },
  {
   "cell_type": "code",
   "execution_count": 133,
   "id": "6ed51c11",
   "metadata": {},
   "outputs": [
    {
     "data": {
      "text/html": [
       "<div>\n",
       "<style scoped>\n",
       "    .dataframe tbody tr th:only-of-type {\n",
       "        vertical-align: middle;\n",
       "    }\n",
       "\n",
       "    .dataframe tbody tr th {\n",
       "        vertical-align: top;\n",
       "    }\n",
       "\n",
       "    .dataframe thead th {\n",
       "        text-align: right;\n",
       "    }\n",
       "</style>\n",
       "<table border=\"1\" class=\"dataframe\">\n",
       "  <thead>\n",
       "    <tr style=\"text-align: right;\">\n",
       "      <th></th>\n",
       "      <th>Predicted</th>\n",
       "      <th>Original</th>\n",
       "    </tr>\n",
       "  </thead>\n",
       "  <tbody>\n",
       "    <tr>\n",
       "      <th>0</th>\n",
       "      <td>0.0</td>\n",
       "      <td>0.0</td>\n",
       "    </tr>\n",
       "    <tr>\n",
       "      <th>1</th>\n",
       "      <td>0.0</td>\n",
       "      <td>0.0</td>\n",
       "    </tr>\n",
       "    <tr>\n",
       "      <th>2</th>\n",
       "      <td>0.0</td>\n",
       "      <td>0.0</td>\n",
       "    </tr>\n",
       "    <tr>\n",
       "      <th>3</th>\n",
       "      <td>0.0</td>\n",
       "      <td>1.0</td>\n",
       "    </tr>\n",
       "    <tr>\n",
       "      <th>4</th>\n",
       "      <td>0.0</td>\n",
       "      <td>0.0</td>\n",
       "    </tr>\n",
       "    <tr>\n",
       "      <th>...</th>\n",
       "      <td>...</td>\n",
       "      <td>...</td>\n",
       "    </tr>\n",
       "    <tr>\n",
       "      <th>2108</th>\n",
       "      <td>1.0</td>\n",
       "      <td>1.0</td>\n",
       "    </tr>\n",
       "    <tr>\n",
       "      <th>2109</th>\n",
       "      <td>0.0</td>\n",
       "      <td>0.0</td>\n",
       "    </tr>\n",
       "    <tr>\n",
       "      <th>2110</th>\n",
       "      <td>0.0</td>\n",
       "      <td>0.0</td>\n",
       "    </tr>\n",
       "    <tr>\n",
       "      <th>2111</th>\n",
       "      <td>0.0</td>\n",
       "      <td>0.0</td>\n",
       "    </tr>\n",
       "    <tr>\n",
       "      <th>2112</th>\n",
       "      <td>0.0</td>\n",
       "      <td>0.0</td>\n",
       "    </tr>\n",
       "  </tbody>\n",
       "</table>\n",
       "<p>2113 rows × 2 columns</p>\n",
       "</div>"
      ],
      "text/plain": [
       "      Predicted  Original\n",
       "0           0.0       0.0\n",
       "1           0.0       0.0\n",
       "2           0.0       0.0\n",
       "3           0.0       1.0\n",
       "4           0.0       0.0\n",
       "...         ...       ...\n",
       "2108        1.0       1.0\n",
       "2109        0.0       0.0\n",
       "2110        0.0       0.0\n",
       "2111        0.0       0.0\n",
       "2112        0.0       0.0\n",
       "\n",
       "[2113 rows x 2 columns]"
      ]
     },
     "execution_count": 133,
     "metadata": {},
     "output_type": "execute_result"
    }
   ],
   "source": [
    "pd.DataFrame([model.predict(x_test)[:],y_test[:]],index=[\"Predicted\",\"Original\"]).T"
   ]
  },
  {
   "cell_type": "markdown",
   "id": "4857cbbd",
   "metadata": {},
   "source": [
    "Both actual and predicted values are almost same."
   ]
  },
  {
   "cell_type": "markdown",
   "id": "794acd60",
   "metadata": {},
   "source": [
    "## Concluding Remarks."
   ]
  },
  {
   "cell_type": "markdown",
   "id": "3640d056",
   "metadata": {},
   "source": [
    "We went through the various tasks involved in Churn prediction in this article. It is important to note that finding patterns in Exploratory Data Analysis (EDA) is as important as the final prediction itself.\n",
    "\n",
    "A Churn prediction task remains unfinished if the data patterns are not found in EDA. Most people can do the prediction part but struggle with data visualization and conveying the findings in an interesting way.\n",
    "\n",
    "This skill is not only limited to Churn prediction but will also help you in the solving of the usual data science problems."
   ]
  },
  {
   "cell_type": "code",
   "execution_count": null,
   "id": "554cb1d9",
   "metadata": {},
   "outputs": [],
   "source": []
  }
 ],
 "metadata": {
  "kernelspec": {
   "display_name": "Python 3",
   "language": "python",
   "name": "python3"
  },
  "language_info": {
   "codemirror_mode": {
    "name": "ipython",
    "version": 3
   },
   "file_extension": ".py",
   "mimetype": "text/x-python",
   "name": "python",
   "nbconvert_exporter": "python",
   "pygments_lexer": "ipython3",
   "version": "3.8.8"
  }
 },
 "nbformat": 4,
 "nbformat_minor": 5
}
